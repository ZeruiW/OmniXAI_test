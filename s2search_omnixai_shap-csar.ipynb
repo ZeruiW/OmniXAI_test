{
 "cells": [
  {
   "cell_type": "code",
   "execution_count": 1,
   "id": "e1d696f9",
   "metadata": {},
   "outputs": [],
   "source": [
    "import plotly.io as pio\n",
    "pio.renderers.default = \"png\""
   ]
  },
  {
   "cell_type": "code",
   "execution_count": 2,
   "id": "61937e4c",
   "metadata": {},
   "outputs": [],
   "source": [
    "import os\n",
    "import sklearn\n",
    "import xgboost\n",
    "import numpy as np\n",
    "import pandas as pd\n",
    "from omnixai.data.tabular import Tabular\n",
    "from omnixai.preprocessing.tabular import TabularTransform\n",
    "from omnixai.explainers.tabular import ShapTabular\n"
   ]
  },
  {
   "cell_type": "code",
   "execution_count": 3,
   "id": "a2cfd3d3",
   "metadata": {},
   "outputs": [
    {
     "data": {
      "text/plain": [
       "title          Memory Vulnerability: A Case for Delaying Erro...\n",
       "abstract       To face future reliability challenges, it is n...\n",
       "venue                                                      ArXiv\n",
       "authors        ['Luc  Jaulmes', 'Miquel  Moretó', 'Mateo  Val...\n",
       "year                                                        2018\n",
       "n_citations                                                    0\n",
       "score                                                 -16.647312\n",
       "Name: 0, dtype: object"
      ]
     },
     "execution_count": 3,
     "metadata": {},
     "output_type": "execute_result"
    }
   ],
   "source": [
    "df = pd.read_csv('paperwithscore_csar.csv')\n",
    "\n",
    "\n",
    "df.iloc[0]"
   ]
  },
  {
   "cell_type": "code",
   "execution_count": 4,
   "id": "64765024",
   "metadata": {},
   "outputs": [],
   "source": [
    "tabular_data = Tabular(data=df,\n",
    "                        categorical_columns=['title', 'abstract', 'venue', 'authors'],\n",
    "                       target_column='score')"
   ]
  },
  {
   "cell_type": "code",
   "execution_count": 5,
   "id": "c7ac89fa",
   "metadata": {},
   "outputs": [],
   "source": [
    "from ranker_helper import get_scores, start_record_paper_count, end_record_paper_count, processing_log, get_current_paper_count"
   ]
  },
  {
   "cell_type": "code",
   "execution_count": 6,
   "id": "978fb956",
   "metadata": {},
   "outputs": [],
   "source": [
    "def predict_function(z):\n",
    "    paper_data = []\n",
    "    for o in z:\n",
    "        p = {\n",
    "            'title': o.values[0][0],\n",
    "            'abstract': o.values[0][1],\n",
    "            'venue': o.values[0][2],\n",
    "            # 'authors': json.loads(o.values[0][3].replace('\\'', '\"')),\n",
    "            'authors': o.values[0][3],\n",
    "            'year': o.values[0][4],\n",
    "            'n_citations': o.values[0][5],\n",
    "        }\n",
    "        paper_data.append(p)\n",
    "    return get_scores(\"Hardware Architecture\", paper_data, ptf=False)"
   ]
  },
  {
   "cell_type": "code",
   "execution_count": 7,
   "id": "0075b216",
   "metadata": {},
   "outputs": [
    {
     "name": "stdout",
     "output_type": "stream",
     "text": [
      "Loading process ranker model...Loading process ranker model...\n",
      "\n",
      "Load the process s2 ranker within 0.81 sec\n",
      "Load the process s2 ranker within 0.88 sec\n"
     ]
    },
    {
     "name": "stderr",
     "output_type": "stream",
     "text": [
      "invalid value encountered in log\n",
      "invalid value encountered in f (vectorized)\n"
     ]
    }
   ],
   "source": [
    "explainer = ShapTabular(\n",
    "    training_data=tabular_data,\n",
    "    predict_function=predict_function,\n",
    "    nsamples=10\n",
    ")"
   ]
  },
  {
   "cell_type": "code",
   "execution_count": 8,
   "id": "5fe5e9c4",
   "metadata": {},
   "outputs": [
    {
     "data": {
      "application/vnd.jupyter.widget-view+json": {
       "model_id": "0c9485725da649ba9540b481802975ae",
       "version_major": 2,
       "version_minor": 0
      },
      "text/plain": [
       "  0%|          | 0/2563 [00:00<?, ?it/s]"
      ]
     },
     "metadata": {},
     "output_type": "display_data"
    },
    {
     "name": "stdout",
     "output_type": "stream",
     "text": [
      "Loading process ranker model...\n",
      "Load the process s2 ranker within 0.74 sec\n",
      "Loading process ranker model...Loading process ranker model...\n",
      "\n",
      "Load the process s2 ranker within 0.67 sec\n",
      "Load the process s2 ranker within 0.81 sec\n"
     ]
    },
    {
     "name": "stderr",
     "output_type": "stream",
     "text": [
      "invalid value encountered in log\n",
      "invalid value encountered in f (vectorized)\n"
     ]
    },
    {
     "name": "stdout",
     "output_type": "stream",
     "text": [
      "Loading process ranker model...\n",
      "Load the process s2 ranker within 0.88 sec\n",
      "Loading process ranker model...Loading process ranker model...\n",
      "\n",
      "Load the process s2 ranker within 0.69 sec\n",
      "Load the process s2 ranker within 0.93 sec\n"
     ]
    },
    {
     "name": "stderr",
     "output_type": "stream",
     "text": [
      "invalid value encountered in log\n",
      "invalid value encountered in f (vectorized)\n"
     ]
    },
    {
     "name": "stdout",
     "output_type": "stream",
     "text": [
      "Loading process ranker model...\n",
      "Load the process s2 ranker within 0.64 sec\n",
      "Loading process ranker model...Loading process ranker model...\n",
      "\n",
      "Load the process s2 ranker within 0.88 sec\n",
      "Load the process s2 ranker within 0.9 sec\n"
     ]
    },
    {
     "name": "stderr",
     "output_type": "stream",
     "text": [
      "invalid value encountered in log\n",
      "invalid value encountered in f (vectorized)\n"
     ]
    },
    {
     "name": "stdout",
     "output_type": "stream",
     "text": [
      "Loading process ranker model...\n",
      "Load the process s2 ranker within 0.82 sec\n",
      "Loading process ranker model...\n",
      "Loading process ranker model...\n",
      "Load the process s2 ranker within 0.39 sec\n",
      "Load the process s2 ranker within 0.72 sec\n"
     ]
    },
    {
     "name": "stderr",
     "output_type": "stream",
     "text": [
      "invalid value encountered in log\n",
      "invalid value encountered in f (vectorized)\n"
     ]
    },
    {
     "name": "stdout",
     "output_type": "stream",
     "text": [
      "Loading process ranker model...\n",
      "Load the process s2 ranker within 0.82 sec\n",
      "Loading process ranker model...Loading process ranker model...\n",
      "\n",
      "Load the process s2 ranker within 0.7 sec\n",
      "Load the process s2 ranker within 0.76 sec\n"
     ]
    },
    {
     "name": "stderr",
     "output_type": "stream",
     "text": [
      "invalid value encountered in log\n",
      "invalid value encountered in f (vectorized)\n"
     ]
    },
    {
     "name": "stdout",
     "output_type": "stream",
     "text": [
      "Loading process ranker model...\n",
      "Load the process s2 ranker within 0.8 sec\n",
      "Loading process ranker model...Loading process ranker model...\n",
      "\n",
      "Load the process s2 ranker within 0.43 sec\n",
      "Load the process s2 ranker within 0.88 sec\n"
     ]
    },
    {
     "name": "stderr",
     "output_type": "stream",
     "text": [
      "invalid value encountered in log\n",
      "invalid value encountered in f (vectorized)\n"
     ]
    },
    {
     "name": "stdout",
     "output_type": "stream",
     "text": [
      "Loading process ranker model...\n",
      "Load the process s2 ranker within 0.79 sec\n",
      "Loading process ranker model...\n",
      "Loading process ranker model...\n",
      "Load the process s2 ranker within 0.44 sec\n",
      "Load the process s2 ranker within 0.75 sec\n"
     ]
    },
    {
     "name": "stderr",
     "output_type": "stream",
     "text": [
      "invalid value encountered in log\n",
      "invalid value encountered in f (vectorized)\n"
     ]
    },
    {
     "name": "stdout",
     "output_type": "stream",
     "text": [
      "Loading process ranker model...\n",
      "Load the process s2 ranker within 0.89 sec\n",
      "Loading process ranker model...\n",
      "Loading process ranker model...\n",
      "Load the process s2 ranker within 0.48 sec\n",
      "Load the process s2 ranker within 0.78 sec\n"
     ]
    },
    {
     "name": "stderr",
     "output_type": "stream",
     "text": [
      "invalid value encountered in log\n",
      "invalid value encountered in f (vectorized)\n"
     ]
    },
    {
     "name": "stdout",
     "output_type": "stream",
     "text": [
      "Loading process ranker model...\n",
      "Load the process s2 ranker within 0.82 sec\n",
      "Loading process ranker model...\n",
      "Loading process ranker model...\n",
      "Load the process s2 ranker within 0.43 sec\n",
      "Load the process s2 ranker within 0.84 sec\n"
     ]
    },
    {
     "name": "stderr",
     "output_type": "stream",
     "text": [
      "invalid value encountered in log\n",
      "invalid value encountered in f (vectorized)\n"
     ]
    },
    {
     "name": "stdout",
     "output_type": "stream",
     "text": [
      "Loading process ranker model...\n",
      "Load the process s2 ranker within 0.78 sec\n",
      "Loading process ranker model...\n",
      "Loading process ranker model...\n",
      "Load the process s2 ranker within 0.5 sec\n",
      "Load the process s2 ranker within 0.77 sec\n"
     ]
    },
    {
     "name": "stderr",
     "output_type": "stream",
     "text": [
      "invalid value encountered in log\n",
      "invalid value encountered in f (vectorized)\n"
     ]
    },
    {
     "name": "stdout",
     "output_type": "stream",
     "text": [
      "Loading process ranker model...\n",
      "Load the process s2 ranker within 0.86 sec\n",
      "Loading process ranker model...\n",
      "Loading process ranker model...\n",
      "Load the process s2 ranker within 0.44 sec\n",
      "Load the process s2 ranker within 0.72 sec\n"
     ]
    },
    {
     "name": "stderr",
     "output_type": "stream",
     "text": [
      "invalid value encountered in log\n",
      "invalid value encountered in f (vectorized)\n"
     ]
    },
    {
     "name": "stdout",
     "output_type": "stream",
     "text": [
      "Loading process ranker model...\n",
      "Load the process s2 ranker within 0.85 sec\n",
      "Loading process ranker model...Loading process ranker model...\n",
      "\n",
      "Load the process s2 ranker within 0.69 secLoad the process s2 ranker within 0.68 sec\n",
      "\n"
     ]
    },
    {
     "name": "stderr",
     "output_type": "stream",
     "text": [
      "invalid value encountered in log\n",
      "invalid value encountered in f (vectorized)\n"
     ]
    },
    {
     "name": "stdout",
     "output_type": "stream",
     "text": [
      "Loading process ranker model...\n",
      "Load the process s2 ranker within 0.8 sec\n",
      "Loading process ranker model...Loading process ranker model...\n",
      "\n",
      "Load the process s2 ranker within 0.81 sec\n",
      "Load the process s2 ranker within 0.81 sec\n"
     ]
    },
    {
     "name": "stderr",
     "output_type": "stream",
     "text": [
      "invalid value encountered in log\n",
      "invalid value encountered in f (vectorized)\n"
     ]
    },
    {
     "name": "stdout",
     "output_type": "stream",
     "text": [
      "Loading process ranker model...\n",
      "Load the process s2 ranker within 0.73 sec\n",
      "Loading process ranker model...Loading process ranker model...\n",
      "\n",
      "Load the process s2 ranker within 0.75 sec\n",
      "Load the process s2 ranker within 0.84 sec\n"
     ]
    },
    {
     "name": "stderr",
     "output_type": "stream",
     "text": [
      "invalid value encountered in log\n",
      "invalid value encountered in f (vectorized)\n"
     ]
    },
    {
     "name": "stdout",
     "output_type": "stream",
     "text": [
      "Loading process ranker model...\n",
      "Load the process s2 ranker within 0.72 sec\n",
      "Loading process ranker model...Loading process ranker model...\n",
      "\n",
      "Load the process s2 ranker within 0.84 sec\n",
      "Load the process s2 ranker within 0.88 sec\n"
     ]
    },
    {
     "name": "stderr",
     "output_type": "stream",
     "text": [
      "invalid value encountered in log\n",
      "invalid value encountered in f (vectorized)\n"
     ]
    },
    {
     "name": "stdout",
     "output_type": "stream",
     "text": [
      "Loading process ranker model...\n",
      "Load the process s2 ranker within 0.73 sec\n",
      "Loading process ranker model...Loading process ranker model...\n",
      "\n",
      "Load the process s2 ranker within 0.61 sec\n",
      "Load the process s2 ranker within 0.79 sec\n"
     ]
    },
    {
     "name": "stderr",
     "output_type": "stream",
     "text": [
      "invalid value encountered in log\n",
      "invalid value encountered in f (vectorized)\n"
     ]
    },
    {
     "name": "stdout",
     "output_type": "stream",
     "text": [
      "Loading process ranker model...\n",
      "Load the process s2 ranker within 0.71 sec\n",
      "Loading process ranker model...\n",
      "Loading process ranker model...\n",
      "Load the process s2 ranker within 0.63 sec\n",
      "Load the process s2 ranker within 0.86 sec\n"
     ]
    },
    {
     "name": "stderr",
     "output_type": "stream",
     "text": [
      "invalid value encountered in log\n",
      "invalid value encountered in f (vectorized)\n"
     ]
    },
    {
     "name": "stdout",
     "output_type": "stream",
     "text": [
      "Loading process ranker model...\n",
      "Load the process s2 ranker within 0.76 sec\n",
      "Loading process ranker model...\n",
      "Loading process ranker model...\n",
      "Load the process s2 ranker within 0.48 sec\n",
      "Load the process s2 ranker within 0.74 sec\n"
     ]
    },
    {
     "name": "stderr",
     "output_type": "stream",
     "text": [
      "invalid value encountered in log\n",
      "invalid value encountered in f (vectorized)\n"
     ]
    },
    {
     "name": "stdout",
     "output_type": "stream",
     "text": [
      "Loading process ranker model...\n",
      "Load the process s2 ranker within 0.84 sec\n",
      "Loading process ranker model...\n",
      "Loading process ranker model...\n",
      "Load the process s2 ranker within 0.46 sec\n",
      "Load the process s2 ranker within 0.83 sec\n"
     ]
    },
    {
     "name": "stderr",
     "output_type": "stream",
     "text": [
      "invalid value encountered in log\n",
      "invalid value encountered in f (vectorized)\n"
     ]
    },
    {
     "name": "stdout",
     "output_type": "stream",
     "text": [
      "Loading process ranker model...\n",
      "Load the process s2 ranker within 0.78 sec\n",
      "Loading process ranker model...\n",
      "Loading process ranker model...\n",
      "Load the process s2 ranker within 0.46 sec\n",
      "Load the process s2 ranker within 0.75 sec\n"
     ]
    },
    {
     "name": "stderr",
     "output_type": "stream",
     "text": [
      "invalid value encountered in log\n",
      "invalid value encountered in f (vectorized)\n"
     ]
    },
    {
     "name": "stdout",
     "output_type": "stream",
     "text": [
      "Loading process ranker model...\n",
      "Load the process s2 ranker within 0.8 sec\n",
      "Loading process ranker model...\n",
      "Loading process ranker model...\n",
      "Load the process s2 ranker within 0.42 sec\n",
      "Load the process s2 ranker within 0.64 sec\n"
     ]
    },
    {
     "name": "stderr",
     "output_type": "stream",
     "text": [
      "invalid value encountered in log\n",
      "invalid value encountered in f (vectorized)\n"
     ]
    },
    {
     "name": "stdout",
     "output_type": "stream",
     "text": [
      "Loading process ranker model...\n",
      "Load the process s2 ranker within 0.74 sec\n",
      "Loading process ranker model...\n",
      "Loading process ranker model...\n",
      "Load the process s2 ranker within 0.45 sec\n",
      "Load the process s2 ranker within 0.55 sec\n"
     ]
    },
    {
     "name": "stderr",
     "output_type": "stream",
     "text": [
      "invalid value encountered in log\n",
      "invalid value encountered in f (vectorized)\n"
     ]
    },
    {
     "name": "stdout",
     "output_type": "stream",
     "text": [
      "Loading process ranker model...\n",
      "Load the process s2 ranker within 0.75 sec\n",
      "Loading process ranker model...\n",
      "Loading process ranker model...\n",
      "Load the process s2 ranker within 0.52 secLoad the process s2 ranker within 0.55 sec\n",
      "\n"
     ]
    },
    {
     "name": "stderr",
     "output_type": "stream",
     "text": [
      "invalid value encountered in log\n",
      "invalid value encountered in f (vectorized)\n"
     ]
    },
    {
     "name": "stdout",
     "output_type": "stream",
     "text": [
      "Loading process ranker model...\n",
      "Load the process s2 ranker within 0.67 sec\n",
      "Loading process ranker model...Loading process ranker model...\n",
      "\n",
      "Load the process s2 ranker within 0.83 secLoad the process s2 ranker within 0.84 sec\n",
      "\n"
     ]
    },
    {
     "name": "stderr",
     "output_type": "stream",
     "text": [
      "invalid value encountered in log\n",
      "invalid value encountered in f (vectorized)\n"
     ]
    },
    {
     "name": "stdout",
     "output_type": "stream",
     "text": [
      "Loading process ranker model...\n",
      "Load the process s2 ranker within 0.64 sec\n",
      "Loading process ranker model...Loading process ranker model...\n",
      "\n",
      "Load the process s2 ranker within 0.83 secLoad the process s2 ranker within 0.82 sec\n",
      "\n"
     ]
    },
    {
     "name": "stderr",
     "output_type": "stream",
     "text": [
      "invalid value encountered in log\n",
      "invalid value encountered in f (vectorized)\n"
     ]
    },
    {
     "name": "stdout",
     "output_type": "stream",
     "text": [
      "Loading process ranker model...\n",
      "Load the process s2 ranker within 0.71 sec\n",
      "Loading process ranker model...\n",
      "Loading process ranker model...\n",
      "Load the process s2 ranker within 0.42 sec\n",
      "Load the process s2 ranker within 0.81 sec\n"
     ]
    },
    {
     "name": "stderr",
     "output_type": "stream",
     "text": [
      "invalid value encountered in log\n",
      "invalid value encountered in f (vectorized)\n"
     ]
    },
    {
     "name": "stdout",
     "output_type": "stream",
     "text": [
      "Loading process ranker model...\n",
      "Load the process s2 ranker within 0.83 sec\n",
      "Loading process ranker model...\n",
      "Loading process ranker model...\n",
      "Load the process s2 ranker within 0.39 sec\n",
      "Load the process s2 ranker within 0.74 sec\n"
     ]
    },
    {
     "name": "stderr",
     "output_type": "stream",
     "text": [
      "invalid value encountered in log\n",
      "invalid value encountered in f (vectorized)\n"
     ]
    },
    {
     "name": "stdout",
     "output_type": "stream",
     "text": [
      "Loading process ranker model...\n",
      "Load the process s2 ranker within 0.75 sec\n",
      "Loading process ranker model...Loading process ranker model...\n",
      "\n",
      "Load the process s2 ranker within 0.45 sec\n",
      "Load the process s2 ranker within 0.84 sec\n"
     ]
    },
    {
     "name": "stderr",
     "output_type": "stream",
     "text": [
      "invalid value encountered in log\n",
      "invalid value encountered in f (vectorized)\n"
     ]
    },
    {
     "name": "stdout",
     "output_type": "stream",
     "text": [
      "Loading process ranker model...\n",
      "Load the process s2 ranker within 0.85 sec\n",
      "Loading process ranker model...Loading process ranker model...\n",
      "\n",
      "Load the process s2 ranker within 0.66 sec\n",
      "Load the process s2 ranker within 0.86 sec\n"
     ]
    },
    {
     "name": "stderr",
     "output_type": "stream",
     "text": [
      "invalid value encountered in log\n",
      "invalid value encountered in f (vectorized)\n"
     ]
    },
    {
     "name": "stdout",
     "output_type": "stream",
     "text": [
      "Loading process ranker model...\n",
      "Load the process s2 ranker within 0.79 sec\n",
      "Loading process ranker model...\n",
      "Loading process ranker model...\n",
      "Load the process s2 ranker within 0.43 sec\n",
      "Load the process s2 ranker within 0.79 sec\n"
     ]
    },
    {
     "name": "stderr",
     "output_type": "stream",
     "text": [
      "invalid value encountered in log\n",
      "invalid value encountered in f (vectorized)\n"
     ]
    },
    {
     "name": "stdout",
     "output_type": "stream",
     "text": [
      "Loading process ranker model...\n",
      "Load the process s2 ranker within 0.74 sec\n",
      "Loading process ranker model...\n",
      "Loading process ranker model...\n",
      "Load the process s2 ranker within 0.39 sec\n",
      "Load the process s2 ranker within 7.39 sec\n"
     ]
    },
    {
     "name": "stderr",
     "output_type": "stream",
     "text": [
      "invalid value encountered in log\n",
      "invalid value encountered in f (vectorized)\n"
     ]
    },
    {
     "name": "stdout",
     "output_type": "stream",
     "text": [
      "Loading process ranker model...\n",
      "Load the process s2 ranker within 0.83 sec\n",
      "Loading process ranker model...\n",
      "Loading process ranker model...\n",
      "Load the process s2 ranker within 0.45 sec\n",
      "Load the process s2 ranker within 0.81 sec\n"
     ]
    },
    {
     "name": "stderr",
     "output_type": "stream",
     "text": [
      "invalid value encountered in log\n",
      "invalid value encountered in f (vectorized)\n"
     ]
    },
    {
     "name": "stdout",
     "output_type": "stream",
     "text": [
      "Loading process ranker model...\n",
      "Load the process s2 ranker within 0.79 sec\n",
      "Loading process ranker model...\n",
      "Loading process ranker model...\n",
      "Load the process s2 ranker within 0.39 sec\n",
      "Load the process s2 ranker within 0.8 sec\n"
     ]
    },
    {
     "name": "stderr",
     "output_type": "stream",
     "text": [
      "invalid value encountered in log\n",
      "invalid value encountered in f (vectorized)\n"
     ]
    },
    {
     "name": "stdout",
     "output_type": "stream",
     "text": [
      "Loading process ranker model...\n",
      "Load the process s2 ranker within 0.79 sec\n",
      "Loading process ranker model...Loading process ranker model...\n",
      "\n",
      "Load the process s2 ranker within 0.85 sec\n",
      "Load the process s2 ranker within 0.91 sec\n"
     ]
    },
    {
     "name": "stderr",
     "output_type": "stream",
     "text": [
      "invalid value encountered in log\n",
      "invalid value encountered in f (vectorized)\n"
     ]
    },
    {
     "name": "stdout",
     "output_type": "stream",
     "text": [
      "Loading process ranker model...\n",
      "Load the process s2 ranker within 0.74 sec\n",
      "Loading process ranker model...Loading process ranker model...\n",
      "\n",
      "Load the process s2 ranker within 0.59 sec\n",
      "Load the process s2 ranker within 0.86 sec\n"
     ]
    },
    {
     "name": "stderr",
     "output_type": "stream",
     "text": [
      "invalid value encountered in log\n",
      "invalid value encountered in f (vectorized)\n"
     ]
    },
    {
     "name": "stdout",
     "output_type": "stream",
     "text": [
      "Loading process ranker model...\n",
      "Load the process s2 ranker within 0.84 sec\n",
      "Loading process ranker model...\n",
      "Loading process ranker model...\n",
      "Load the process s2 ranker within 0.4 sec\n",
      "Load the process s2 ranker within 0.74 sec\n"
     ]
    },
    {
     "name": "stderr",
     "output_type": "stream",
     "text": [
      "invalid value encountered in log\n",
      "invalid value encountered in f (vectorized)\n"
     ]
    },
    {
     "name": "stdout",
     "output_type": "stream",
     "text": [
      "Loading process ranker model...\n",
      "Load the process s2 ranker within 0.84 sec\n",
      "Loading process ranker model...\n",
      "Loading process ranker model...\n",
      "Load the process s2 ranker within 0.41 sec\n",
      "Load the process s2 ranker within 0.77 sec\n"
     ]
    },
    {
     "name": "stderr",
     "output_type": "stream",
     "text": [
      "invalid value encountered in log\n",
      "invalid value encountered in f (vectorized)\n"
     ]
    },
    {
     "name": "stdout",
     "output_type": "stream",
     "text": [
      "Loading process ranker model...\n",
      "Load the process s2 ranker within 0.84 sec\n",
      "Loading process ranker model...\n",
      "Loading process ranker model...\n",
      "Load the process s2 ranker within 0.57 sec\n",
      "Load the process s2 ranker within 0.6 sec\n"
     ]
    },
    {
     "name": "stderr",
     "output_type": "stream",
     "text": [
      "invalid value encountered in log\n",
      "invalid value encountered in f (vectorized)\n"
     ]
    },
    {
     "name": "stdout",
     "output_type": "stream",
     "text": [
      "Loading process ranker model...\n",
      "Load the process s2 ranker within 0.81 sec\n",
      "Loading process ranker model...Loading process ranker model...\n",
      "\n",
      "Load the process s2 ranker within 0.76 sec\n",
      "Load the process s2 ranker within 0.82 sec\n"
     ]
    },
    {
     "name": "stderr",
     "output_type": "stream",
     "text": [
      "invalid value encountered in log\n",
      "invalid value encountered in f (vectorized)\n"
     ]
    },
    {
     "name": "stdout",
     "output_type": "stream",
     "text": [
      "Loading process ranker model...\n",
      "Load the process s2 ranker within 0.78 sec\n",
      "Loading process ranker model...Loading process ranker model...\n",
      "\n",
      "Load the process s2 ranker within 0.72 sec\n",
      "Load the process s2 ranker within 0.8 sec\n"
     ]
    },
    {
     "name": "stderr",
     "output_type": "stream",
     "text": [
      "invalid value encountered in log\n",
      "invalid value encountered in f (vectorized)\n"
     ]
    },
    {
     "name": "stdout",
     "output_type": "stream",
     "text": [
      "Loading process ranker model...\n",
      "Load the process s2 ranker within 0.76 sec\n",
      "Loading process ranker model...Loading process ranker model...\n",
      "\n",
      "Load the process s2 ranker within 0.89 sec\n",
      "Load the process s2 ranker within 0.92 sec\n"
     ]
    },
    {
     "name": "stderr",
     "output_type": "stream",
     "text": [
      "invalid value encountered in log\n",
      "invalid value encountered in f (vectorized)\n"
     ]
    },
    {
     "name": "stdout",
     "output_type": "stream",
     "text": [
      "Loading process ranker model...\n",
      "Load the process s2 ranker within 0.63 sec\n",
      "Loading process ranker model...Loading process ranker model...\n",
      "\n",
      "Load the process s2 ranker within 0.74 sec\n",
      "Load the process s2 ranker within 0.8 sec\n"
     ]
    },
    {
     "name": "stderr",
     "output_type": "stream",
     "text": [
      "invalid value encountered in log\n",
      "invalid value encountered in f (vectorized)\n"
     ]
    },
    {
     "name": "stdout",
     "output_type": "stream",
     "text": [
      "Loading process ranker model...\n",
      "Load the process s2 ranker within 0.82 sec\n",
      "Loading process ranker model...Loading process ranker model...\n",
      "\n",
      "Load the process s2 ranker within 0.54 sec\n",
      "Load the process s2 ranker within 0.81 sec\n"
     ]
    },
    {
     "name": "stderr",
     "output_type": "stream",
     "text": [
      "invalid value encountered in log\n",
      "invalid value encountered in f (vectorized)\n"
     ]
    },
    {
     "name": "stdout",
     "output_type": "stream",
     "text": [
      "Loading process ranker model...\n",
      "Load the process s2 ranker within 0.83 sec\n",
      "Loading process ranker model...\n",
      "Loading process ranker model...\n",
      "Load the process s2 ranker within 0.43 sec\n",
      "Load the process s2 ranker within 0.75 sec\n"
     ]
    },
    {
     "name": "stderr",
     "output_type": "stream",
     "text": [
      "invalid value encountered in log\n",
      "invalid value encountered in f (vectorized)\n"
     ]
    },
    {
     "name": "stdout",
     "output_type": "stream",
     "text": [
      "Loading process ranker model...\n",
      "Load the process s2 ranker within 0.74 sec\n",
      "Loading process ranker model...\n",
      "Loading process ranker model...\n",
      "Load the process s2 ranker within 0.41 sec\n",
      "Load the process s2 ranker within 0.63 sec\n"
     ]
    },
    {
     "name": "stderr",
     "output_type": "stream",
     "text": [
      "invalid value encountered in log\n",
      "invalid value encountered in f (vectorized)\n"
     ]
    },
    {
     "name": "stdout",
     "output_type": "stream",
     "text": [
      "Loading process ranker model...\n",
      "Load the process s2 ranker within 0.81 sec\n",
      "Loading process ranker model...Loading process ranker model...\n",
      "\n",
      "Load the process s2 ranker within 0.58 sec\n",
      "Load the process s2 ranker within 0.62 sec\n"
     ]
    },
    {
     "name": "stderr",
     "output_type": "stream",
     "text": [
      "invalid value encountered in log\n",
      "invalid value encountered in f (vectorized)\n"
     ]
    },
    {
     "name": "stdout",
     "output_type": "stream",
     "text": [
      "Loading process ranker model...\n",
      "Load the process s2 ranker within 0.75 sec\n",
      "Loading process ranker model...Loading process ranker model...\n",
      "\n",
      "Load the process s2 ranker within 0.76 sec\n",
      "Load the process s2 ranker within 0.81 sec\n"
     ]
    },
    {
     "name": "stderr",
     "output_type": "stream",
     "text": [
      "invalid value encountered in log\n",
      "invalid value encountered in f (vectorized)\n"
     ]
    },
    {
     "name": "stdout",
     "output_type": "stream",
     "text": [
      "Loading process ranker model...\n",
      "Load the process s2 ranker within 0.77 sec\n",
      "Loading process ranker model...\n",
      "Loading process ranker model...\n",
      "Load the process s2 ranker within 0.42 sec\n",
      "Load the process s2 ranker within 0.75 sec\n"
     ]
    },
    {
     "name": "stderr",
     "output_type": "stream",
     "text": [
      "invalid value encountered in log\n",
      "invalid value encountered in f (vectorized)\n"
     ]
    },
    {
     "name": "stdout",
     "output_type": "stream",
     "text": [
      "Loading process ranker model...\n",
      "Load the process s2 ranker within 0.77 sec\n",
      "Loading process ranker model...\n",
      "Loading process ranker model...\n",
      "Load the process s2 ranker within 0.42 sec\n",
      "Load the process s2 ranker within 0.8 sec\n"
     ]
    },
    {
     "name": "stderr",
     "output_type": "stream",
     "text": [
      "invalid value encountered in log\n",
      "invalid value encountered in f (vectorized)\n"
     ]
    },
    {
     "name": "stdout",
     "output_type": "stream",
     "text": [
      "Loading process ranker model...\n",
      "Load the process s2 ranker within 0.82 sec\n",
      "Loading process ranker model...\n",
      "Loading process ranker model...\n",
      "Load the process s2 ranker within 0.41 sec\n",
      "Load the process s2 ranker within 0.79 sec\n"
     ]
    },
    {
     "name": "stderr",
     "output_type": "stream",
     "text": [
      "invalid value encountered in log\n",
      "invalid value encountered in f (vectorized)\n"
     ]
    },
    {
     "name": "stdout",
     "output_type": "stream",
     "text": [
      "Loading process ranker model...\n",
      "Load the process s2 ranker within 0.79 sec\n",
      "Loading process ranker model...\n",
      "Loading process ranker model...\n",
      "Load the process s2 ranker within 0.41 sec\n",
      "Load the process s2 ranker within 0.81 sec\n"
     ]
    },
    {
     "name": "stderr",
     "output_type": "stream",
     "text": [
      "invalid value encountered in log\n",
      "invalid value encountered in f (vectorized)\n"
     ]
    },
    {
     "name": "stdout",
     "output_type": "stream",
     "text": [
      "Loading process ranker model...\n",
      "Load the process s2 ranker within 0.8 sec\n",
      "Loading process ranker model...\n",
      "Loading process ranker model...\n",
      "Load the process s2 ranker within 0.4 sec\n",
      "Load the process s2 ranker within 0.81 sec\n"
     ]
    },
    {
     "name": "stderr",
     "output_type": "stream",
     "text": [
      "invalid value encountered in log\n",
      "invalid value encountered in f (vectorized)\n"
     ]
    },
    {
     "name": "stdout",
     "output_type": "stream",
     "text": [
      "Loading process ranker model...\n",
      "Load the process s2 ranker within 0.86 sec\n",
      "Loading process ranker model...\n",
      "Loading process ranker model...\n",
      "Load the process s2 ranker within 0.63 sec\n",
      "Load the process s2 ranker within 0.68 sec\n"
     ]
    },
    {
     "name": "stderr",
     "output_type": "stream",
     "text": [
      "invalid value encountered in log\n",
      "invalid value encountered in f (vectorized)\n"
     ]
    },
    {
     "name": "stdout",
     "output_type": "stream",
     "text": [
      "Loading process ranker model...\n",
      "Load the process s2 ranker within 0.74 sec\n",
      "Loading process ranker model...Loading process ranker model...\n",
      "\n",
      "Load the process s2 ranker within 0.77 secLoad the process s2 ranker within 0.75 sec\n",
      "\n"
     ]
    },
    {
     "name": "stderr",
     "output_type": "stream",
     "text": [
      "invalid value encountered in log\n",
      "invalid value encountered in f (vectorized)\n"
     ]
    },
    {
     "name": "stdout",
     "output_type": "stream",
     "text": [
      "Loading process ranker model...\n",
      "Load the process s2 ranker within 0.8 sec\n",
      "Loading process ranker model...Loading process ranker model...\n",
      "\n",
      "Load the process s2 ranker within 0.81 sec\n",
      "Load the process s2 ranker within 0.83 sec\n"
     ]
    },
    {
     "name": "stderr",
     "output_type": "stream",
     "text": [
      "invalid value encountered in log\n",
      "invalid value encountered in f (vectorized)\n"
     ]
    },
    {
     "name": "stdout",
     "output_type": "stream",
     "text": [
      "Loading process ranker model...\n",
      "Load the process s2 ranker within 0.65 sec\n",
      "Loading process ranker model...\n",
      "Loading process ranker model...\n",
      "Load the process s2 ranker within 0.77 sec\n",
      "Load the process s2 ranker within 0.82 sec\n"
     ]
    },
    {
     "name": "stderr",
     "output_type": "stream",
     "text": [
      "invalid value encountered in log\n",
      "invalid value encountered in f (vectorized)\n"
     ]
    },
    {
     "name": "stdout",
     "output_type": "stream",
     "text": [
      "Loading process ranker model...\n",
      "Load the process s2 ranker within 0.79 sec\n",
      "Loading process ranker model...\n",
      "Loading process ranker model...\n",
      "Load the process s2 ranker within 0.47 sec\n",
      "Load the process s2 ranker within 0.8 sec\n"
     ]
    },
    {
     "name": "stderr",
     "output_type": "stream",
     "text": [
      "invalid value encountered in log\n",
      "invalid value encountered in f (vectorized)\n"
     ]
    },
    {
     "name": "stdout",
     "output_type": "stream",
     "text": [
      "Loading process ranker model...\n",
      "Load the process s2 ranker within 0.83 sec\n",
      "Loading process ranker model...\n",
      "Loading process ranker model...\n",
      "Load the process s2 ranker within 0.43 sec\n",
      "Load the process s2 ranker within 0.8 sec\n"
     ]
    },
    {
     "name": "stderr",
     "output_type": "stream",
     "text": [
      "invalid value encountered in log\n",
      "invalid value encountered in f (vectorized)\n"
     ]
    },
    {
     "name": "stdout",
     "output_type": "stream",
     "text": [
      "Loading process ranker model...\n",
      "Load the process s2 ranker within 0.75 sec\n",
      "Loading process ranker model...\n",
      "Loading process ranker model...\n",
      "Load the process s2 ranker within 0.46 sec\n",
      "Load the process s2 ranker within 0.56 sec\n"
     ]
    },
    {
     "name": "stderr",
     "output_type": "stream",
     "text": [
      "invalid value encountered in log\n",
      "invalid value encountered in f (vectorized)\n"
     ]
    },
    {
     "name": "stdout",
     "output_type": "stream",
     "text": [
      "Loading process ranker model...\n",
      "Load the process s2 ranker within 0.77 sec\n",
      "Loading process ranker model...Loading process ranker model...\n",
      "\n",
      "Load the process s2 ranker within 0.81 sec\n",
      "Load the process s2 ranker within 0.83 sec\n"
     ]
    },
    {
     "name": "stderr",
     "output_type": "stream",
     "text": [
      "invalid value encountered in log\n",
      "invalid value encountered in f (vectorized)\n"
     ]
    },
    {
     "name": "stdout",
     "output_type": "stream",
     "text": [
      "Loading process ranker model...\n",
      "Load the process s2 ranker within 1.19 sec\n",
      "Loading process ranker model...\n",
      "Loading process ranker model...\n",
      "Load the process s2 ranker within 0.42 sec\n",
      "Load the process s2 ranker within 4.04 sec\n"
     ]
    },
    {
     "name": "stderr",
     "output_type": "stream",
     "text": [
      "invalid value encountered in log\n",
      "invalid value encountered in f (vectorized)\n"
     ]
    },
    {
     "name": "stdout",
     "output_type": "stream",
     "text": [
      "Loading process ranker model...\n",
      "Load the process s2 ranker within 0.95 sec\n",
      "Loading process ranker model...Loading process ranker model...\n",
      "\n",
      "Load the process s2 ranker within 0.57 sec\n",
      "Load the process s2 ranker within 0.57 sec\n"
     ]
    },
    {
     "name": "stderr",
     "output_type": "stream",
     "text": [
      "invalid value encountered in log\n",
      "invalid value encountered in f (vectorized)\n"
     ]
    },
    {
     "name": "stdout",
     "output_type": "stream",
     "text": [
      "Loading process ranker model...\n",
      "Load the process s2 ranker within 0.55 sec\n",
      "Loading process ranker model...Loading process ranker model...\n",
      "\n",
      "Load the process s2 ranker within 0.57 sec\n",
      "Load the process s2 ranker within 2.23 sec\n"
     ]
    },
    {
     "name": "stderr",
     "output_type": "stream",
     "text": [
      "invalid value encountered in log\n",
      "invalid value encountered in f (vectorized)\n"
     ]
    },
    {
     "name": "stdout",
     "output_type": "stream",
     "text": [
      "Loading process ranker model...\n",
      "Load the process s2 ranker within 4.25 sec\n",
      "Loading process ranker model...Loading process ranker model...\n",
      "\n",
      "Load the process s2 ranker within 0.99 sec\n",
      "Load the process s2 ranker within 1.04 sec\n"
     ]
    },
    {
     "name": "stderr",
     "output_type": "stream",
     "text": [
      "invalid value encountered in log\n",
      "invalid value encountered in f (vectorized)\n"
     ]
    },
    {
     "name": "stdout",
     "output_type": "stream",
     "text": [
      "Loading process ranker model...\n",
      "Load the process s2 ranker within 0.48 sec\n",
      "Loading process ranker model...Loading process ranker model...\n",
      "\n",
      "Load the process s2 ranker within 0.47 sec\n",
      "Load the process s2 ranker within 0.48 sec\n"
     ]
    },
    {
     "name": "stderr",
     "output_type": "stream",
     "text": [
      "invalid value encountered in log\n",
      "invalid value encountered in f (vectorized)\n"
     ]
    },
    {
     "name": "stdout",
     "output_type": "stream",
     "text": [
      "Loading process ranker model...\n",
      "Load the process s2 ranker within 0.72 sec\n",
      "Loading process ranker model...Loading process ranker model...\n",
      "\n",
      "Load the process s2 ranker within 0.81 sec\n",
      "Load the process s2 ranker within 0.85 sec\n"
     ]
    },
    {
     "name": "stderr",
     "output_type": "stream",
     "text": [
      "invalid value encountered in log\n",
      "invalid value encountered in f (vectorized)\n"
     ]
    },
    {
     "name": "stdout",
     "output_type": "stream",
     "text": [
      "Loading process ranker model...\n",
      "Load the process s2 ranker within 0.81 sec\n",
      "Loading process ranker model...\n",
      "Loading process ranker model...\n",
      "Load the process s2 ranker within 0.43 sec\n",
      "Load the process s2 ranker within 0.84 sec\n"
     ]
    },
    {
     "name": "stderr",
     "output_type": "stream",
     "text": [
      "invalid value encountered in log\n",
      "invalid value encountered in f (vectorized)\n"
     ]
    },
    {
     "name": "stdout",
     "output_type": "stream",
     "text": [
      "Loading process ranker model...\n",
      "Load the process s2 ranker within 0.76 sec\n",
      "Loading process ranker model...\n",
      "Loading process ranker model...\n",
      "Load the process s2 ranker within 0.44 sec\n",
      "Load the process s2 ranker within 0.74 sec\n"
     ]
    },
    {
     "name": "stderr",
     "output_type": "stream",
     "text": [
      "invalid value encountered in log\n",
      "invalid value encountered in f (vectorized)\n"
     ]
    },
    {
     "name": "stdout",
     "output_type": "stream",
     "text": [
      "Loading process ranker model...\n",
      "Load the process s2 ranker within 0.85 sec\n",
      "Loading process ranker model...\n",
      "Loading process ranker model...\n",
      "Load the process s2 ranker within 0.43 sec\n",
      "Load the process s2 ranker within 0.83 sec\n"
     ]
    },
    {
     "name": "stderr",
     "output_type": "stream",
     "text": [
      "invalid value encountered in log\n",
      "invalid value encountered in f (vectorized)\n"
     ]
    },
    {
     "name": "stdout",
     "output_type": "stream",
     "text": [
      "Loading process ranker model...\n",
      "Load the process s2 ranker within 0.96 sec\n",
      "Loading process ranker model...Loading process ranker model...\n",
      "\n",
      "Load the process s2 ranker within 0.83 sec\n",
      "Load the process s2 ranker within 0.85 sec\n"
     ]
    },
    {
     "name": "stderr",
     "output_type": "stream",
     "text": [
      "invalid value encountered in log\n",
      "invalid value encountered in f (vectorized)\n"
     ]
    },
    {
     "name": "stdout",
     "output_type": "stream",
     "text": [
      "Loading process ranker model...\n",
      "Load the process s2 ranker within 0.64 sec\n",
      "Loading process ranker model...\n",
      "Loading process ranker model...\n",
      "Load the process s2 ranker within 0.76 sec\n",
      "Load the process s2 ranker within 0.8 sec\n"
     ]
    },
    {
     "name": "stderr",
     "output_type": "stream",
     "text": [
      "invalid value encountered in log\n",
      "invalid value encountered in f (vectorized)\n"
     ]
    },
    {
     "name": "stdout",
     "output_type": "stream",
     "text": [
      "Loading process ranker model...\n",
      "Load the process s2 ranker within 0.76 sec\n",
      "Loading process ranker model...\n",
      "Loading process ranker model...\n",
      "Load the process s2 ranker within 0.42 sec\n",
      "Load the process s2 ranker within 0.79 sec\n"
     ]
    },
    {
     "name": "stderr",
     "output_type": "stream",
     "text": [
      "invalid value encountered in log\n",
      "invalid value encountered in f (vectorized)\n"
     ]
    },
    {
     "name": "stdout",
     "output_type": "stream",
     "text": [
      "Loading process ranker model...\n",
      "Load the process s2 ranker within 0.76 sec\n",
      "Loading process ranker model...\n",
      "Loading process ranker model...\n",
      "Load the process s2 ranker within 0.37 sec\n",
      "Load the process s2 ranker within 0.72 sec\n"
     ]
    },
    {
     "ename": "KeyboardInterrupt",
     "evalue": "",
     "output_type": "error",
     "traceback": [
      "\u001b[0;31m---------------------------------------------------------------------------\u001b[0m",
      "\u001b[0;31mKeyboardInterrupt\u001b[0m                         Traceback (most recent call last)",
      "Input \u001b[0;32mIn [8]\u001b[0m, in \u001b[0;36m<cell line: 1>\u001b[0;34m()\u001b[0m\n\u001b[0;32m----> 1\u001b[0m explanations \u001b[38;5;241m=\u001b[39m \u001b[43mexplainer\u001b[49m\u001b[38;5;241;43m.\u001b[39;49m\u001b[43mexplain\u001b[49m\u001b[43m(\u001b[49m\u001b[43mtabular_data\u001b[49m\u001b[43m)\u001b[49m\n\u001b[1;32m      2\u001b[0m explanations\u001b[38;5;241m.\u001b[39mipython_plot(index\u001b[38;5;241m=\u001b[39m\u001b[38;5;241m0\u001b[39m, class_names\u001b[38;5;241m=\u001b[39mclass_names)\n",
      "File \u001b[0;32m~/.local/lib/python3.8/site-packages/omnixai/explainers/tabular/agnostic/shap.py:66\u001b[0m, in \u001b[0;36mShapTabular.explain\u001b[0;34m(self, X, y, **kwargs)\u001b[0m\n\u001b[1;32m     64\u001b[0m explanations \u001b[38;5;241m=\u001b[39m FeatureImportance(\u001b[38;5;28mself\u001b[39m\u001b[38;5;241m.\u001b[39mmode)\n\u001b[1;32m     65\u001b[0m instances \u001b[38;5;241m=\u001b[39m \u001b[38;5;28mself\u001b[39m\u001b[38;5;241m.\u001b[39mtransformer\u001b[38;5;241m.\u001b[39mtransform(X)\n\u001b[0;32m---> 66\u001b[0m shap_values \u001b[38;5;241m=\u001b[39m \u001b[38;5;28;43mself\u001b[39;49m\u001b[38;5;241;43m.\u001b[39;49m\u001b[43mexplainer\u001b[49m\u001b[38;5;241;43m.\u001b[39;49m\u001b[43mshap_values\u001b[49m\u001b[43m(\u001b[49m\u001b[43minstances\u001b[49m\u001b[43m,\u001b[49m\u001b[43m \u001b[49m\u001b[38;5;241;43m*\u001b[39;49m\u001b[38;5;241;43m*\u001b[39;49m\u001b[43mkwargs\u001b[49m\u001b[43m)\u001b[49m\n\u001b[1;32m     68\u001b[0m \u001b[38;5;28;01mif\u001b[39;00m \u001b[38;5;28mself\u001b[39m\u001b[38;5;241m.\u001b[39mmode \u001b[38;5;241m==\u001b[39m \u001b[38;5;124m\"\u001b[39m\u001b[38;5;124mclassification\u001b[39m\u001b[38;5;124m\"\u001b[39m:\n\u001b[1;32m     69\u001b[0m     \u001b[38;5;28;01mif\u001b[39;00m y \u001b[38;5;129;01mis\u001b[39;00m \u001b[38;5;129;01mnot\u001b[39;00m \u001b[38;5;28;01mNone\u001b[39;00m:\n",
      "File \u001b[0;32m~/.local/lib/python3.8/site-packages/shap/explainers/_kernel.py:190\u001b[0m, in \u001b[0;36mKernel.shap_values\u001b[0;34m(self, X, **kwargs)\u001b[0m\n\u001b[1;32m    188\u001b[0m \u001b[38;5;28;01mif\u001b[39;00m \u001b[38;5;28mself\u001b[39m\u001b[38;5;241m.\u001b[39mkeep_index:\n\u001b[1;32m    189\u001b[0m     data \u001b[38;5;241m=\u001b[39m convert_to_instance_with_index(data, column_name, index_value[i:i \u001b[38;5;241m+\u001b[39m \u001b[38;5;241m1\u001b[39m], index_name)\n\u001b[0;32m--> 190\u001b[0m explanations\u001b[38;5;241m.\u001b[39mappend(\u001b[38;5;28;43mself\u001b[39;49m\u001b[38;5;241;43m.\u001b[39;49m\u001b[43mexplain\u001b[49m\u001b[43m(\u001b[49m\u001b[43mdata\u001b[49m\u001b[43m,\u001b[49m\u001b[43m \u001b[49m\u001b[38;5;241;43m*\u001b[39;49m\u001b[38;5;241;43m*\u001b[39;49m\u001b[43mkwargs\u001b[49m\u001b[43m)\u001b[49m)\n\u001b[1;32m    191\u001b[0m \u001b[38;5;28;01mif\u001b[39;00m kwargs\u001b[38;5;241m.\u001b[39mget(\u001b[38;5;124m\"\u001b[39m\u001b[38;5;124mgc_collect\u001b[39m\u001b[38;5;124m\"\u001b[39m, \u001b[38;5;28;01mFalse\u001b[39;00m):\n\u001b[1;32m    192\u001b[0m     gc\u001b[38;5;241m.\u001b[39mcollect()\n",
      "File \u001b[0;32m~/.local/lib/python3.8/site-packages/shap/explainers/_kernel.py:382\u001b[0m, in \u001b[0;36mKernel.explain\u001b[0;34m(self, incoming_instance, **kwargs)\u001b[0m\n\u001b[1;32m    379\u001b[0m     \u001b[38;5;28mself\u001b[39m\u001b[38;5;241m.\u001b[39mkernelWeights[nfixed_samples:] \u001b[38;5;241m*\u001b[39m\u001b[38;5;241m=\u001b[39m weight_left \u001b[38;5;241m/\u001b[39m \u001b[38;5;28mself\u001b[39m\u001b[38;5;241m.\u001b[39mkernelWeights[nfixed_samples:]\u001b[38;5;241m.\u001b[39msum()\n\u001b[1;32m    381\u001b[0m \u001b[38;5;66;03m# execute the model on the synthetic samples we have created\u001b[39;00m\n\u001b[0;32m--> 382\u001b[0m \u001b[38;5;28;43mself\u001b[39;49m\u001b[38;5;241;43m.\u001b[39;49m\u001b[43mrun\u001b[49m\u001b[43m(\u001b[49m\u001b[43m)\u001b[49m\n\u001b[1;32m    384\u001b[0m \u001b[38;5;66;03m# solve then expand the feature importance (Shapley value) vector to contain the non-varying features\u001b[39;00m\n\u001b[1;32m    385\u001b[0m phi \u001b[38;5;241m=\u001b[39m np\u001b[38;5;241m.\u001b[39mzeros((\u001b[38;5;28mself\u001b[39m\u001b[38;5;241m.\u001b[39mdata\u001b[38;5;241m.\u001b[39mgroups_size, \u001b[38;5;28mself\u001b[39m\u001b[38;5;241m.\u001b[39mD))\n",
      "File \u001b[0;32m~/.local/lib/python3.8/site-packages/shap/explainers/_kernel.py:521\u001b[0m, in \u001b[0;36mKernel.run\u001b[0;34m(self)\u001b[0m\n\u001b[1;32m    519\u001b[0m     \u001b[38;5;28;01mif\u001b[39;00m \u001b[38;5;28mself\u001b[39m\u001b[38;5;241m.\u001b[39mkeep_index_ordered:\n\u001b[1;32m    520\u001b[0m         data \u001b[38;5;241m=\u001b[39m data\u001b[38;5;241m.\u001b[39msort_index()\n\u001b[0;32m--> 521\u001b[0m modelOut \u001b[38;5;241m=\u001b[39m \u001b[38;5;28;43mself\u001b[39;49m\u001b[38;5;241;43m.\u001b[39;49m\u001b[43mmodel\u001b[49m\u001b[38;5;241;43m.\u001b[39;49m\u001b[43mf\u001b[49m\u001b[43m(\u001b[49m\u001b[43mdata\u001b[49m\u001b[43m)\u001b[49m\n\u001b[1;32m    522\u001b[0m \u001b[38;5;28;01mif\u001b[39;00m \u001b[38;5;28misinstance\u001b[39m(modelOut, (pd\u001b[38;5;241m.\u001b[39mDataFrame, pd\u001b[38;5;241m.\u001b[39mSeries)):\n\u001b[1;32m    523\u001b[0m     modelOut \u001b[38;5;241m=\u001b[39m modelOut\u001b[38;5;241m.\u001b[39mvalues\n",
      "File \u001b[0;32m~/.local/lib/python3.8/site-packages/omnixai/explainers/tabular/base.py:70\u001b[0m, in \u001b[0;36mTabularExplainer.__init__.<locals>.<lambda>\u001b[0;34m(x)\u001b[0m\n\u001b[1;32m     67\u001b[0m \u001b[38;5;28mself\u001b[39m\u001b[38;5;241m.\u001b[39mdim \u001b[38;5;241m=\u001b[39m \u001b[38;5;28mself\u001b[39m\u001b[38;5;241m.\u001b[39mdata\u001b[38;5;241m.\u001b[39mshape[\u001b[38;5;241m1\u001b[39m]\n\u001b[1;32m     69\u001b[0m \u001b[38;5;28;01mif\u001b[39;00m mode \u001b[38;5;241m==\u001b[39m \u001b[38;5;124m\"\u001b[39m\u001b[38;5;124mclassification\u001b[39m\u001b[38;5;124m\"\u001b[39m:\n\u001b[0;32m---> 70\u001b[0m     \u001b[38;5;28mself\u001b[39m\u001b[38;5;241m.\u001b[39mpredict_fn \u001b[38;5;241m=\u001b[39m \u001b[38;5;28;01mlambda\u001b[39;00m x: \u001b[43mpredict_function\u001b[49m\u001b[43m(\u001b[49m\u001b[38;5;28;43mself\u001b[39;49m\u001b[38;5;241;43m.\u001b[39;49m\u001b[43mtransformer\u001b[49m\u001b[38;5;241;43m.\u001b[39;49m\u001b[43minvert\u001b[49m\u001b[43m(\u001b[49m\u001b[43mx\u001b[49m\u001b[43m)\u001b[49m\u001b[43m)\u001b[49m\n\u001b[1;32m     71\u001b[0m \u001b[38;5;28;01melse\u001b[39;00m:\n\u001b[1;32m     72\u001b[0m     \u001b[38;5;28mself\u001b[39m\u001b[38;5;241m.\u001b[39mpredict_fn \u001b[38;5;241m=\u001b[39m \u001b[38;5;28;01mlambda\u001b[39;00m x: predict_function(\u001b[38;5;28mself\u001b[39m\u001b[38;5;241m.\u001b[39mtransformer\u001b[38;5;241m.\u001b[39minvert(x))\u001b[38;5;241m.\u001b[39mflatten()\n",
      "Input \u001b[0;32mIn [6]\u001b[0m, in \u001b[0;36mpredict_function\u001b[0;34m(z)\u001b[0m\n\u001b[1;32m      4\u001b[0m     p \u001b[38;5;241m=\u001b[39m {\n\u001b[1;32m      5\u001b[0m         \u001b[38;5;124m'\u001b[39m\u001b[38;5;124mtitle\u001b[39m\u001b[38;5;124m'\u001b[39m: o\u001b[38;5;241m.\u001b[39mvalues[\u001b[38;5;241m0\u001b[39m][\u001b[38;5;241m0\u001b[39m],\n\u001b[1;32m      6\u001b[0m         \u001b[38;5;124m'\u001b[39m\u001b[38;5;124mabstract\u001b[39m\u001b[38;5;124m'\u001b[39m: o\u001b[38;5;241m.\u001b[39mvalues[\u001b[38;5;241m0\u001b[39m][\u001b[38;5;241m1\u001b[39m],\n\u001b[0;32m   (...)\u001b[0m\n\u001b[1;32m     11\u001b[0m         \u001b[38;5;124m'\u001b[39m\u001b[38;5;124mn_citations\u001b[39m\u001b[38;5;124m'\u001b[39m: o\u001b[38;5;241m.\u001b[39mvalues[\u001b[38;5;241m0\u001b[39m][\u001b[38;5;241m5\u001b[39m],\n\u001b[1;32m     12\u001b[0m     }\n\u001b[1;32m     13\u001b[0m     paper_data\u001b[38;5;241m.\u001b[39mappend(p)\n\u001b[0;32m---> 14\u001b[0m \u001b[38;5;28;01mreturn\u001b[39;00m \u001b[43mget_scores\u001b[49m\u001b[43m(\u001b[49m\u001b[38;5;124;43m\"\u001b[39;49m\u001b[38;5;124;43mHardware Architecture\u001b[39;49m\u001b[38;5;124;43m\"\u001b[39;49m\u001b[43m,\u001b[49m\u001b[43m \u001b[49m\u001b[43mpaper_data\u001b[49m\u001b[43m,\u001b[49m\u001b[43m \u001b[49m\u001b[43mptf\u001b[49m\u001b[38;5;241;43m=\u001b[39;49m\u001b[38;5;28;43;01mFalse\u001b[39;49;00m\u001b[43m)\u001b[49m\n",
      "File \u001b[0;32m~/code/s2search/s2search/ranker_helper.py:196\u001b[0m, in \u001b[0;36mget_scores\u001b[0;34m(query, paper, task_name, ptf, force_global)\u001b[0m\n\u001b[1;32m    194\u001b[0m     \u001b[38;5;28;01mwith\u001b[39;00m Pool(processes\u001b[38;5;241m=\u001b[39mwork_load) \u001b[38;5;28;01mas\u001b[39;00m worker:\n\u001b[1;32m    195\u001b[0m         rs \u001b[38;5;241m=\u001b[39m worker\u001b[38;5;241m.\u001b[39mmap_async(get_scores_for_one_worker, task_arg)\n\u001b[0;32m--> 196\u001b[0m         scores \u001b[38;5;241m=\u001b[39m \u001b[43mrs\u001b[49m\u001b[38;5;241;43m.\u001b[39;49m\u001b[43mget\u001b[49m\u001b[43m(\u001b[49m\u001b[43m)\u001b[49m\n\u001b[1;32m    198\u001b[0m et \u001b[38;5;241m=\u001b[39m \u001b[38;5;28mround\u001b[39m(time\u001b[38;5;241m.\u001b[39mtime() \u001b[38;5;241m-\u001b[39m st, \u001b[38;5;241m6\u001b[39m)\n\u001b[1;32m    199\u001b[0m ts \u001b[38;5;241m=\u001b[39m datetime\u001b[38;5;241m.\u001b[39mdatetime\u001b[38;5;241m.\u001b[39mnow(tz\u001b[38;5;241m=\u001b[39mutc_tz)\u001b[38;5;241m.\u001b[39mstrftime(\u001b[38;5;124m\"\u001b[39m\u001b[38;5;124m%\u001b[39m\u001b[38;5;124mm/\u001b[39m\u001b[38;5;132;01m%d\u001b[39;00m\u001b[38;5;124m/\u001b[39m\u001b[38;5;124m%\u001b[39m\u001b[38;5;124mY, \u001b[39m\u001b[38;5;124m%\u001b[39m\u001b[38;5;124mH:\u001b[39m\u001b[38;5;124m%\u001b[39m\u001b[38;5;124mM:\u001b[39m\u001b[38;5;124m%\u001b[39m\u001b[38;5;124mS\u001b[39m\u001b[38;5;124m\"\u001b[39m)\n",
      "File \u001b[0;32m/usr/lib/python3.8/multiprocessing/pool.py:765\u001b[0m, in \u001b[0;36mApplyResult.get\u001b[0;34m(self, timeout)\u001b[0m\n\u001b[1;32m    764\u001b[0m \u001b[38;5;28;01mdef\u001b[39;00m \u001b[38;5;21mget\u001b[39m(\u001b[38;5;28mself\u001b[39m, timeout\u001b[38;5;241m=\u001b[39m\u001b[38;5;28;01mNone\u001b[39;00m):\n\u001b[0;32m--> 765\u001b[0m     \u001b[38;5;28;43mself\u001b[39;49m\u001b[38;5;241;43m.\u001b[39;49m\u001b[43mwait\u001b[49m\u001b[43m(\u001b[49m\u001b[43mtimeout\u001b[49m\u001b[43m)\u001b[49m\n\u001b[1;32m    766\u001b[0m     \u001b[38;5;28;01mif\u001b[39;00m \u001b[38;5;129;01mnot\u001b[39;00m \u001b[38;5;28mself\u001b[39m\u001b[38;5;241m.\u001b[39mready():\n\u001b[1;32m    767\u001b[0m         \u001b[38;5;28;01mraise\u001b[39;00m \u001b[38;5;167;01mTimeoutError\u001b[39;00m\n",
      "File \u001b[0;32m/usr/lib/python3.8/multiprocessing/pool.py:762\u001b[0m, in \u001b[0;36mApplyResult.wait\u001b[0;34m(self, timeout)\u001b[0m\n\u001b[1;32m    761\u001b[0m \u001b[38;5;28;01mdef\u001b[39;00m \u001b[38;5;21mwait\u001b[39m(\u001b[38;5;28mself\u001b[39m, timeout\u001b[38;5;241m=\u001b[39m\u001b[38;5;28;01mNone\u001b[39;00m):\n\u001b[0;32m--> 762\u001b[0m     \u001b[38;5;28;43mself\u001b[39;49m\u001b[38;5;241;43m.\u001b[39;49m\u001b[43m_event\u001b[49m\u001b[38;5;241;43m.\u001b[39;49m\u001b[43mwait\u001b[49m\u001b[43m(\u001b[49m\u001b[43mtimeout\u001b[49m\u001b[43m)\u001b[49m\n",
      "File \u001b[0;32m/usr/lib/python3.8/threading.py:558\u001b[0m, in \u001b[0;36mEvent.wait\u001b[0;34m(self, timeout)\u001b[0m\n\u001b[1;32m    556\u001b[0m signaled \u001b[38;5;241m=\u001b[39m \u001b[38;5;28mself\u001b[39m\u001b[38;5;241m.\u001b[39m_flag\n\u001b[1;32m    557\u001b[0m \u001b[38;5;28;01mif\u001b[39;00m \u001b[38;5;129;01mnot\u001b[39;00m signaled:\n\u001b[0;32m--> 558\u001b[0m     signaled \u001b[38;5;241m=\u001b[39m \u001b[38;5;28;43mself\u001b[39;49m\u001b[38;5;241;43m.\u001b[39;49m\u001b[43m_cond\u001b[49m\u001b[38;5;241;43m.\u001b[39;49m\u001b[43mwait\u001b[49m\u001b[43m(\u001b[49m\u001b[43mtimeout\u001b[49m\u001b[43m)\u001b[49m\n\u001b[1;32m    559\u001b[0m \u001b[38;5;28;01mreturn\u001b[39;00m signaled\n",
      "File \u001b[0;32m/usr/lib/python3.8/threading.py:302\u001b[0m, in \u001b[0;36mCondition.wait\u001b[0;34m(self, timeout)\u001b[0m\n\u001b[1;32m    300\u001b[0m \u001b[38;5;28;01mtry\u001b[39;00m:    \u001b[38;5;66;03m# restore state no matter what (e.g., KeyboardInterrupt)\u001b[39;00m\n\u001b[1;32m    301\u001b[0m     \u001b[38;5;28;01mif\u001b[39;00m timeout \u001b[38;5;129;01mis\u001b[39;00m \u001b[38;5;28;01mNone\u001b[39;00m:\n\u001b[0;32m--> 302\u001b[0m         \u001b[43mwaiter\u001b[49m\u001b[38;5;241;43m.\u001b[39;49m\u001b[43macquire\u001b[49m\u001b[43m(\u001b[49m\u001b[43m)\u001b[49m\n\u001b[1;32m    303\u001b[0m         gotit \u001b[38;5;241m=\u001b[39m \u001b[38;5;28;01mTrue\u001b[39;00m\n\u001b[1;32m    304\u001b[0m     \u001b[38;5;28;01melse\u001b[39;00m:\n",
      "\u001b[0;31mKeyboardInterrupt\u001b[0m: "
     ]
    }
   ],
   "source": [
    "explanations = explainer.explain(tabular_data)\n",
    "explanations.ipython_plot(index=0, class_names=class_names)"
   ]
  },
  {
   "cell_type": "code",
   "execution_count": null,
   "id": "da60c6df",
   "metadata": {},
   "outputs": [],
   "source": []
  },
  {
   "cell_type": "code",
   "execution_count": null,
   "id": "36ff66c3",
   "metadata": {},
   "outputs": [],
   "source": []
  }
 ],
 "metadata": {
  "kernelspec": {
   "display_name": "Python 3 (ipykernel)",
   "language": "python",
   "name": "python3"
  },
  "language_info": {
   "codemirror_mode": {
    "name": "ipython",
    "version": 3
   },
   "file_extension": ".py",
   "mimetype": "text/x-python",
   "name": "python",
   "nbconvert_exporter": "python",
   "pygments_lexer": "ipython3",
   "version": "3.8.10"
  }
 },
 "nbformat": 4,
 "nbformat_minor": 5
}
