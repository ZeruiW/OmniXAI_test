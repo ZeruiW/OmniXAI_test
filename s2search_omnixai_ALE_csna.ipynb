{
 "cells": [
  {
   "cell_type": "code",
   "execution_count": 9,
   "id": "1ebb5b79",
   "metadata": {},
   "outputs": [],
   "source": [
    "import plotly.io as pio\n",
    "pio.renderers.default = \"png\""
   ]
  },
  {
   "cell_type": "code",
   "execution_count": 10,
   "id": "95462e1e",
   "metadata": {},
   "outputs": [],
   "source": [
    "import os\n",
    "import sklearn\n",
    "import xgboost\n",
    "import numpy as np\n",
    "import pandas as pd\n",
    "from omnixai.data.tabular import Tabular\n",
    "from omnixai.preprocessing.tabular import TabularTransform\n",
    "from omnixai.explainers.tabular import ALE"
   ]
  },
  {
   "cell_type": "code",
   "execution_count": 11,
   "id": "d211913e",
   "metadata": {},
   "outputs": [
    {
     "data": {
      "text/plain": [
       "title          Efficient Constrained Tensor Factorization by ...\n",
       "abstract       Tensor factorization with hard and/or soft con...\n",
       "venue          2018 IEEE International Conference on Acoustic...\n",
       "authors                       ['Shunsuke  Ono', 'Takuma  Kasai']\n",
       "year                                                        2018\n",
       "n_citations                                                    2\n",
       "score                                                   9.887662\n",
       "Name: 0, dtype: object"
      ]
     },
     "execution_count": 11,
     "metadata": {},
     "output_type": "execute_result"
    }
   ],
   "source": [
    "df = pd.read_csv('paperwithscore_all.csv')\n",
    "\n",
    "df.iloc[0]"
   ]
  },
  {
   "cell_type": "code",
   "execution_count": 12,
   "id": "81ecaece",
   "metadata": {},
   "outputs": [],
   "source": [
    "tabular_data = Tabular(data=df,\n",
    "                        categorical_columns=['title', 'abstract', 'venue', 'authors'],\n",
    "                       target_column='score')"
   ]
  },
  {
   "cell_type": "code",
   "execution_count": 13,
   "id": "27a2d2a8",
   "metadata": {},
   "outputs": [],
   "source": [
    "from ranker_helper import get_scores, start_record_paper_count, end_record_paper_count, processing_log, get_current_paper_count"
   ]
  },
  {
   "cell_type": "code",
   "execution_count": 14,
   "id": "5eb7e314",
   "metadata": {},
   "outputs": [],
   "source": [
    "def predict_function(z):\n",
    "    paper_data = []\n",
    "    for o in z:\n",
    "        p = {\n",
    "            'title': o.values[0][0],\n",
    "            'abstract': o.values[0][1],\n",
    "            'venue': o.values[0][2],\n",
    "            # 'authors': json.loads(o.values[0][3].replace('\\'', '\"')),\n",
    "            'authors': o.values[0][3],\n",
    "            'year': o.values[0][4],\n",
    "            'n_citations': o.values[0][5],\n",
    "        }\n",
    "        paper_data.append(p)\n",
    "    return get_scores(\"Numerical Analysis\", paper_data, ptf=False)"
   ]
  },
  {
   "cell_type": "code",
   "execution_count": 15,
   "id": "a4f9609f",
   "metadata": {},
   "outputs": [],
   "source": [
    "explainer = ALE(\n",
    "    training_data=tabular_data,\n",
    "    predict_function=predict_function\n",
    ")"
   ]
  },
  {
   "cell_type": "code",
   "execution_count": null,
   "id": "9f7d5252",
   "metadata": {},
   "outputs": [
    {
     "name": "stdout",
     "output_type": "stream",
     "text": [
      "Loading process ranker model...\n",
      "Loading process ranker model...\n",
      "Load the process s2 ranker within 13.47 secLoad the process s2 ranker within 13.49 sec\n",
      "\n",
      "Loading process ranker model...\n",
      "Loading process ranker model...\n",
      "Load the process s2 ranker within 0.43 sec\n",
      "Load the process s2 ranker within 0.41 sec\n",
      "Loading process ranker model...\n",
      "Loading process ranker model...\n",
      "Load the process s2 ranker within 0.39 secLoad the process s2 ranker within 0.37 sec\n",
      "\n",
      "Loading process ranker model...\n",
      "Loading process ranker model...\n",
      "Load the process s2 ranker within 0.37 sec\n",
      "Load the process s2 ranker within 0.37 sec\n",
      "Loading process ranker model...\n",
      "Loading process ranker model...\n",
      "Load the process s2 ranker within 0.39 sec\n",
      "Load the process s2 ranker within 0.4 sec\n",
      "Loading process ranker model...\n",
      "Loading process ranker model...\n",
      "Load the process s2 ranker within 0.47 secLoad the process s2 ranker within 0.45 sec\n",
      "\n",
      "Loading process ranker model...\n",
      "Loading process ranker model...\n",
      "Load the process s2 ranker within 0.52 secLoad the process s2 ranker within 0.54 sec\n",
      "\n",
      "Loading process ranker model...\n",
      "Loading process ranker model...\n",
      "Load the process s2 ranker within 0.44 sec\n",
      "Load the process s2 ranker within 0.43 sec\n",
      "Loading process ranker model...\n",
      "Loading process ranker model...\n",
      "Load the process s2 ranker within 0.4 sec\n",
      "Load the process s2 ranker within 0.39 sec\n",
      "Loading process ranker model...\n",
      "Loading process ranker model...\n",
      "Load the process s2 ranker within 0.42 sec\n",
      "Load the process s2 ranker within 0.44 sec\n",
      "Loading process ranker model...\n",
      "Loading process ranker model...\n",
      "Load the process s2 ranker within 0.47 sec\n",
      "Load the process s2 ranker within 0.46 sec\n",
      "Loading process ranker model...\n",
      "Loading process ranker model...\n",
      "Load the process s2 ranker within 0.4 secLoad the process s2 ranker within 0.42 sec\n",
      "\n",
      "Loading process ranker model...\n",
      "Loading process ranker model...\n",
      "Load the process s2 ranker within 0.47 secLoad the process s2 ranker within 0.5 sec\n",
      "\n",
      "Loading process ranker model...\n",
      "Loading process ranker model...\n",
      "Load the process s2 ranker within 0.45 secLoad the process s2 ranker within 0.47 sec\n",
      "\n",
      "Loading process ranker model...\n",
      "Loading process ranker model...\n",
      "Load the process s2 ranker within 0.4 secLoad the process s2 ranker within 0.42 sec\n",
      "\n",
      "Loading process ranker model...\n",
      "Loading process ranker model...\n",
      "Load the process s2 ranker within 0.42 sec\n",
      "Load the process s2 ranker within 0.4 sec\n",
      "Loading process ranker model...\n",
      "Loading process ranker model...\n",
      "Load the process s2 ranker within 0.37 sec\n",
      "Load the process s2 ranker within 0.39 sec\n",
      "Loading process ranker model...\n",
      "Loading process ranker model...\n",
      "Load the process s2 ranker within 0.43 sec\n",
      "Load the process s2 ranker within 0.45 sec\n",
      "Loading process ranker model...\n",
      "Loading process ranker model...\n",
      "Load the process s2 ranker within 0.43 secLoad the process s2 ranker within 0.41 sec\n",
      "\n",
      "Loading process ranker model...\n",
      "Loading process ranker model...\n",
      "Load the process s2 ranker within 0.4 sec\n",
      "Load the process s2 ranker within 0.4 sec\n",
      "Loading process ranker model...\n",
      "Loading process ranker model...\n",
      "Load the process s2 ranker within 0.37 sec\n",
      "Load the process s2 ranker within 0.37 sec\n",
      "Loading process ranker model...\n",
      "Loading process ranker model...\n",
      "Load the process s2 ranker within 0.46 secLoad the process s2 ranker within 0.48 sec\n",
      "\n",
      "Loading process ranker model...\n",
      "Loading process ranker model...\n",
      "Load the process s2 ranker within 0.4 sec\n",
      "Load the process s2 ranker within 0.43 sec\n",
      "Loading process ranker model...\n",
      "Loading process ranker model...\n",
      "Load the process s2 ranker within 0.4 sec\n",
      "Load the process s2 ranker within 0.44 sec\n",
      "Loading process ranker model...\n",
      "Loading process ranker model...\n",
      "Load the process s2 ranker within 0.46 secLoad the process s2 ranker within 0.48 sec\n",
      "\n",
      "Loading process ranker model...\n",
      "Loading process ranker model...\n",
      "Load the process s2 ranker within 0.36 sec\n",
      "Load the process s2 ranker within 0.38 sec\n",
      "Loading process ranker model...\n",
      "Loading process ranker model...\n",
      "Load the process s2 ranker within 0.42 secLoad the process s2 ranker within 0.45 sec\n",
      "\n",
      "Loading process ranker model...\n",
      "Loading process ranker model...\n",
      "Load the process s2 ranker within 0.45 sec\n",
      "Load the process s2 ranker within 0.44 sec\n",
      "Loading process ranker model...\n",
      "Loading process ranker model...\n",
      "Load the process s2 ranker within 0.43 sec\n",
      "Load the process s2 ranker within 0.41 sec\n",
      "Loading process ranker model...\n",
      "Loading process ranker model...\n",
      "Load the process s2 ranker within 0.36 secLoad the process s2 ranker within 0.38 sec\n",
      "\n",
      "Loading process ranker model...\n",
      "Loading process ranker model...\n",
      "Load the process s2 ranker within 0.44 sec\n",
      "Load the process s2 ranker within 0.43 sec\n",
      "Loading process ranker model...\n",
      "Loading process ranker model...\n",
      "Load the process s2 ranker within 0.47 secLoad the process s2 ranker within 0.44 sec\n",
      "\n",
      "Loading process ranker model...\n",
      "Loading process ranker model...\n",
      "Load the process s2 ranker within 0.42 secLoad the process s2 ranker within 0.39 sec\n",
      "\n"
     ]
    }
   ],
   "source": [
    "explanations = explainer.explain()\n",
    "explanations.ipython_plot(class_names=class_names)"
   ]
  },
  {
   "cell_type": "code",
   "execution_count": null,
   "id": "cfebf122",
   "metadata": {},
   "outputs": [],
   "source": []
  }
 ],
 "metadata": {
  "kernelspec": {
   "display_name": "Python 3 (ipykernel)",
   "language": "python",
   "name": "python3"
  },
  "language_info": {
   "codemirror_mode": {
    "name": "ipython",
    "version": 3
   },
   "file_extension": ".py",
   "mimetype": "text/x-python",
   "name": "python",
   "nbconvert_exporter": "python",
   "pygments_lexer": "ipython3",
   "version": "3.8.10"
  }
 },
 "nbformat": 4,
 "nbformat_minor": 5
}
